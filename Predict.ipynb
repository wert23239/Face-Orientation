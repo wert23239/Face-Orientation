{
 "cells": [
  {
   "cell_type": "code",
   "execution_count": null,
   "metadata": {},
   "outputs": [],
   "source": [
    "import tensorflow as tf\n",
    "import os\n",
    "from PIL import Image\n",
    "import numpy\n",
    "import glob"
   ]
  },
  {
   "cell_type": "code",
   "execution_count": null,
   "metadata": {},
   "outputs": [],
   "source": [
    "#loaded = tf.saved_model.load(\"results/1575511630\")\n",
    "loaded_raw = tf.saved_model.load(\"results/1575992509\")"
   ]
  },
  {
   "cell_type": "code",
   "execution_count": null,
   "metadata": {},
   "outputs": [],
   "source": [
    "from tensorflow.python.client import device_lib\n",
    "\n",
    "def get_available_devices():\n",
    "    local_device_protos = device_lib.list_local_devices()\n",
    "    return [x.name for x in local_device_protos]\n",
    "\n",
    "print(get_available_devices())"
   ]
  },
  {
   "cell_type": "code",
   "execution_count": null,
   "metadata": {},
   "outputs": [],
   "source": [
    "labels = [\"up\",\"down\",\"left\",\"right\"]\n",
    "total_correct = 0\n",
    "total = 0\n",
    "for counter in range(3,0,-1):\n",
    "    path = \"./processed3/train/\"+labels[counter]\n",
    "    x=0\n",
    "    examples = []\n",
    "    for filename in glob.glob(os.path.join(path, '*.jpg')):\n",
    "        if x>1000:\n",
    "            break\n",
    "        x+=1  \n",
    "        image =  Image.open(filename)\n",
    "        example=numpy.array(image)\n",
    "        examples.append(example)\n",
    "    print(x)    \n",
    "    test=tf.convert_to_tensor(examples,tf.float32)\n",
    "    results = loaded_raw.signatures[\"predict\"](input=test)[\"classes\"]\n",
    "    unique, counts = numpy.unique(results.numpy(), return_counts=True)\n",
    "    matrix = dict(zip(unique, counts))\n",
    "    print(labels[counter])\n",
    "    print(matrix)\n",
    "    total_correct += matrix[counter+1]\n",
    "    total += sum(counts)\n",
    "    print(matrix[counter+1]/sum(counts))\n",
    "print(total_correct/total)    "
   ]
  },
  {
   "cell_type": "code",
   "execution_count": null,
   "metadata": {},
   "outputs": [],
   "source": [
    "labels = [\"up\",\"down\",\"left\",\"right\"]\n",
    "total_correct = 0\n",
    "total = 0\n",
    "for counter in range(3,-1,-1):\n",
    "    path = \"./processed3/train/\"+labels[counter]\n",
    "    x=1\n",
    "    examples = []\n",
    "    for filename in glob.glob(os.path.join(path, '*.jpg')):\n",
    "        if x>1:\n",
    "            break\n",
    "        x+=10  \n",
    "        image =  Image.open(filename)\n",
    "        example=numpy.array(image)\n",
    "        examples.append(example)\n",
    "        test=tf.convert_to_tensor(examples,tf.float32)\n",
    "        results = loaded_raw.signatures[\"predict\"](input=test)\n",
    "        print(results)"
   ]
  },
  {
   "cell_type": "code",
   "execution_count": null,
   "metadata": {},
   "outputs": [],
   "source": []
  },
  {
   "cell_type": "code",
   "execution_count": null,
   "metadata": {},
   "outputs": [],
   "source": []
  }
 ],
 "metadata": {
  "kernelspec": {
   "display_name": "Python 3",
   "language": "python",
   "name": "python3"
  },
  "language_info": {
   "codemirror_mode": {
    "name": "ipython",
    "version": 3
   },
   "file_extension": ".py",
   "mimetype": "text/x-python",
   "name": "python",
   "nbconvert_exporter": "python",
   "pygments_lexer": "ipython3",
   "version": "3.7.3"
  }
 },
 "nbformat": 4,
 "nbformat_minor": 4
}
