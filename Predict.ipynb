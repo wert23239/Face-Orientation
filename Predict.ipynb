{
 "cells": [
  {
   "cell_type": "code",
   "execution_count": 2,
   "metadata": {},
   "outputs": [],
   "source": [
    "import tensorflow as tf\n",
    "import os\n",
    "from PIL import Image\n",
    "import numpy\n",
    "import glob"
   ]
  },
  {
   "cell_type": "code",
   "execution_count": 3,
   "metadata": {},
   "outputs": [
    {
     "name": "stdout",
     "output_type": "stream",
     "text": [
      "WARNING:tensorflow:From C:\\ProgramData\\Anaconda3\\lib\\site-packages\\tensorflow_core\\python\\ops\\resource_variable_ops.py:1788: calling BaseResourceVariable.__init__ (from tensorflow.python.ops.resource_variable_ops) with constraint is deprecated and will be removed in a future version.\n",
      "Instructions for updating:\n",
      "If using Keras pass *_constraint arguments to layers.\n"
     ]
    }
   ],
   "source": [
    "# Change to your final model.\n",
    "loaded_raw = tf.saved_model.load(\"results/FinalTuned\")"
   ]
  },
  {
   "cell_type": "code",
   "execution_count": 4,
   "metadata": {},
   "outputs": [
    {
     "name": "stdout",
     "output_type": "stream",
     "text": [
      "['/device:CPU:0', '/device:GPU:0']\n"
     ]
    }
   ],
   "source": [
    "from tensorflow.python.client import device_lib\n",
    "\n",
    "def get_available_devices():\n",
    "    local_device_protos = device_lib.list_local_devices()\n",
    "    return [x.name for x in local_device_protos]\n",
    "\n",
    "print(get_available_devices())"
   ]
  },
  {
   "cell_type": "code",
   "execution_count": 24,
   "metadata": {},
   "outputs": [
    {
     "name": "stdout",
     "output_type": "stream",
     "text": [
      "up\n",
      "{1: 18600, 2: 600}\n",
      "0.96875\n",
      "down\n",
      "{2: 19200}\n",
      "1.0\n",
      "left\n",
      "{3: 18000, 4: 1200}\n",
      "0.9375\n",
      "right\n",
      "{3: 3600, 4: 15600}\n",
      "0.8125\n",
      "0.9296875\n"
     ]
    }
   ],
   "source": [
    "labels = [\"up\",\"down\",\"left\",\"right\"]\n",
    "total_correct = 0\n",
    "total = 0\n",
    "total_batch = 0\n",
    "EPOCHS=30*20\n",
    "BATCH_SIZE=32\n",
    "for counter in range(4):\n",
    "    # Change to train for training data.\n",
    "    path = \"./processed3/validate/\"+labels[counter]\n",
    "    matrix = {}\n",
    "    x=0\n",
    "    for _ in range(EPOCHS):\n",
    "        examples = []\n",
    "        for filename in glob.glob(os.path.join(path, '*.jpg')): \n",
    "            image =  Image.open(filename)\n",
    "            example=numpy.array(image)\n",
    "            examples.append(example)\n",
    "            x+=1\n",
    "            if x%BATCH_SIZE==0:\n",
    "                break    \n",
    "        test=tf.convert_to_tensor(examples,tf.float32)\n",
    "        results = loaded_raw.signatures[\"predict\"](input=test)[\"classes\"]\n",
    "        unique, counts = numpy.unique(results.numpy(), return_counts=True)\n",
    "        batch = dict(zip(unique, counts))\n",
    "        for key in batch:\n",
    "            if key in matrix:\n",
    "                matrix[key]= batch[key] + matrix[key]\n",
    "            else:\n",
    "                matrix[key]= batch[key]\n",
    "    print(labels[counter])\n",
    "    print(matrix)\n",
    "    total_correct += matrix[counter+1]\n",
    "    total+=BATCH_SIZE*EPOCHS\n",
    "    print(matrix[counter+1]/(BATCH_SIZE*EPOCHS))\n",
    "print(total_correct/total)    "
   ]
  }
 ],
 "metadata": {
  "kernelspec": {
   "display_name": "Python 3",
   "language": "python",
   "name": "python3"
  },
  "language_info": {
   "codemirror_mode": {
    "name": "ipython",
    "version": 3
   },
   "file_extension": ".py",
   "mimetype": "text/x-python",
   "name": "python",
   "nbconvert_exporter": "python",
   "pygments_lexer": "ipython3",
   "version": "3.7.3"
  }
 },
 "nbformat": 4,
 "nbformat_minor": 4
}
